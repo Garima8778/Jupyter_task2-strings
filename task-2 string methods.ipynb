{
 "cells": [
  {
   "cell_type": "markdown",
   "id": "ddab458e-1ee3-4851-8d91-772ee07b7866",
   "metadata": {},
   "source": [
    "# String methods"
   ]
  },
  {
   "cell_type": "markdown",
   "id": "fdb9611d-f95e-4430-8e02-b197162c6f48",
   "metadata": {},
   "source": [
    "## 1. capitalize()\tConverts the first character to upper case"
   ]
  },
  {
   "cell_type": "code",
   "execution_count": 19,
   "id": "6d0ca196-aa10-4eef-a964-5945fce09b56",
   "metadata": {},
   "outputs": [
    {
     "name": "stdout",
     "output_type": "stream",
     "text": [
      "Hello, world!\n"
     ]
    }
   ],
   "source": [
    "text = \"hello, world!\"\n",
    "result = text.capitalize()\n",
    "print(result)  \n"
   ]
  },
  {
   "cell_type": "code",
   "execution_count": 22,
   "id": "2a884376-5f98-48de-962e-54d271a648d7",
   "metadata": {},
   "outputs": [
    {
     "name": "stdout",
     "output_type": "stream",
     "text": [
      "I love india\n"
     ]
    }
   ],
   "source": [
    "str = \"i Love India\"\n",
    "result = str.capitalize()\n",
    "print(result)"
   ]
  },
  {
   "cell_type": "markdown",
   "id": "dd12346d-6e39-476f-91ac-64f845867b3a",
   "metadata": {},
   "source": [
    "## 2.casefold()\tConverts string into lower case"
   ]
  },
  {
   "cell_type": "code",
   "execution_count": 27,
   "id": "84fd3a07-5672-447c-a133-d880dca25602",
   "metadata": {},
   "outputs": [
    {
     "name": "stdout",
     "output_type": "stream",
     "text": [
      "this is python\n"
     ]
    }
   ],
   "source": [
    "str = \"This is Python\"\n",
    "result = str.casefold()\n",
    "print(result)"
   ]
  },
  {
   "cell_type": "code",
   "execution_count": 29,
   "id": "9b719bac-17e0-417f-a3ab-18dbefa408ea",
   "metadata": {},
   "outputs": [
    {
     "name": "stdout",
     "output_type": "stream",
     "text": [
      "it will rain\n"
     ]
    }
   ],
   "source": [
    "text = \"It will rain\"\n",
    "result = text.casefold()\n",
    "print(result)"
   ]
  },
  {
   "cell_type": "markdown",
   "id": "1db6acf1-987a-4d92-b08c-bd32694095af",
   "metadata": {},
   "source": [
    "## 3.center()\tReturns a centered string"
   ]
  },
  {
   "cell_type": "code",
   "execution_count": 38,
   "id": "2f8cb933-ab84-4691-b0cc-a5b6ebd62e84",
   "metadata": {},
   "outputs": [
    {
     "name": "stdout",
     "output_type": "stream",
     "text": [
      " '        hot         ' \n"
     ]
    }
   ],
   "source": [
    "text = \"hot\"\n",
    "result = text.center(20)\n",
    "print(f\" '{result}' \")"
   ]
  },
  {
   "cell_type": "code",
   "execution_count": 42,
   "id": "250cd3e1-c026-4cde-9039-f0e53b4c5a9b",
   "metadata": {},
   "outputs": [
    {
     "name": "stdout",
     "output_type": "stream",
     "text": [
      " '   hot    ' \n"
     ]
    }
   ],
   "source": [
    "str = \"string\"\n",
    "result = text.center(10)\n",
    "print(f\" '{result}' \")"
   ]
  },
  {
   "cell_type": "markdown",
   "id": "40c190a0-5f78-49c4-8da1-0b6a24bb7643",
   "metadata": {},
   "source": [
    "## 4.count()\tReturns the number of times a specified value occurs in a string"
   ]
  },
  {
   "cell_type": "code",
   "execution_count": 47,
   "id": "5273748f-b050-4528-991f-2bdb8de1a98e",
   "metadata": {},
   "outputs": [
    {
     "name": "stdout",
     "output_type": "stream",
     "text": [
      "1\n"
     ]
    }
   ],
   "source": [
    "text = \"Hi to all people\"\n",
    "count_all = text.count(\"all\")\n",
    "print(count_all)"
   ]
  },
  {
   "cell_type": "code",
   "execution_count": 52,
   "id": "2d13bda9-ddb4-4ab7-9c6e-4c4ad9f46cb1",
   "metadata": {},
   "outputs": [
    {
     "name": "stdout",
     "output_type": "stream",
     "text": [
      "2\n"
     ]
    }
   ],
   "source": [
    "text = \"I love myself and myself only\"\n",
    "count_myself = text.count(\"myself\")\n",
    "print(count_myself)"
   ]
  },
  {
   "cell_type": "markdown",
   "id": "aa86a374-f0cb-4a78-ab39-2ff9fd9ce53c",
   "metadata": {},
   "source": [
    "## 5.encode()\tReturns an encoded version of the string"
   ]
  },
  {
   "cell_type": "code",
   "execution_count": 56,
   "id": "2b0362de-f470-46a1-bf40-97e8dcfa0f85",
   "metadata": {},
   "outputs": [
    {
     "name": "stdout",
     "output_type": "stream",
     "text": [
      "b'This is good product'\n"
     ]
    }
   ],
   "source": [
    "text = \"This is good product\"\n",
    "encoded_text = text.encode('utf_8')\n",
    "print(encoded_text)                          "
   ]
  },
  {
   "cell_type": "code",
   "execution_count": 58,
   "id": "be85f034-245e-4acd-a4c5-37e96fe59564",
   "metadata": {},
   "outputs": [
    {
     "name": "stdout",
     "output_type": "stream",
     "text": [
      "b'you should eat fruits'\n"
     ]
    }
   ],
   "source": [
    "text = \"you should eat fruits\"\n",
    "encoded_text = text.encode('utf_8')\n",
    "print(encoded_text)"
   ]
  },
  {
   "cell_type": "markdown",
   "id": "e13ec34d-526e-44eb-bfdf-95d3c85295d4",
   "metadata": {},
   "source": [
    "## 6 endswith()\tReturns true if the string ends with the specified value"
   ]
  },
  {
   "cell_type": "code",
   "execution_count": 61,
   "id": "a902fc7f-b84f-4875-87e6-0bbeaafdfa0e",
   "metadata": {},
   "outputs": [
    {
     "name": "stdout",
     "output_type": "stream",
     "text": [
      "True\n"
     ]
    }
   ],
   "source": [
    "text = \"I like driving\"\n",
    "result = text.endswith('driving')\n",
    "print(result)"
   ]
  },
  {
   "cell_type": "code",
   "execution_count": 65,
   "id": "c1aeda87-38f2-4b1b-816a-ba40c1b55219",
   "metadata": {},
   "outputs": [
    {
     "name": "stdout",
     "output_type": "stream",
     "text": [
      "False\n"
     ]
    }
   ],
   "source": [
    "text = \"walking is good habit\"\n",
    "result = text.endswith('good')\n",
    "print(result)"
   ]
  },
  {
   "cell_type": "markdown",
   "id": "e98f91b9-fed6-4dda-9416-ee6381cd29f9",
   "metadata": {},
   "source": [
    "## 7.expandtabs()\tSets the tab size of the string"
   ]
  },
  {
   "cell_type": "code",
   "execution_count": 70,
   "id": "a425e1f2-2516-48b7-b688-90e70fc06fa2",
   "metadata": {},
   "outputs": [
    {
     "name": "stdout",
     "output_type": "stream",
     "text": [
      "solar system has 9      planets\n"
     ]
    }
   ],
   "source": [
    "text =\"solar system has 9\\tplanets\" \n",
    "expanded_text = text.expandtabs()\n",
    "print(expanded_text)"
   ]
  },
  {
   "cell_type": "code",
   "execution_count": 72,
   "id": "89b4fc11-f6f5-4143-99fc-08f0075b2dda",
   "metadata": {},
   "outputs": [
    {
     "name": "stdout",
     "output_type": "stream",
     "text": [
      "solar   system has 9 planets\n"
     ]
    }
   ],
   "source": [
    "text = \"solar\\tsystem has 9 planets\"\n",
    "expanded_text = text.expandtabs(4)\n",
    "print(expanded_text)"
   ]
  },
  {
   "cell_type": "markdown",
   "id": "e4c6355c-2722-471e-a61f-942d3a54233b",
   "metadata": {},
   "source": [
    "## 8.find()\tSearches the string for a specified value and returns the position of where it was found"
   ]
  },
  {
   "cell_type": "code",
   "execution_count": 80,
   "id": "6f8dbf6c-78fd-4ee3-ab6b-ece9c2b6a4cf",
   "metadata": {},
   "outputs": [
    {
     "name": "stdout",
     "output_type": "stream",
     "text": [
      "4\n"
     ]
    }
   ],
   "source": [
    "text = \"you should pray everyday\"\n",
    "position = text.find('should')\n",
    "print(position)"
   ]
  },
  {
   "cell_type": "code",
   "execution_count": 78,
   "id": "204e021a-79d3-447b-95a7-fde965470c8d",
   "metadata": {},
   "outputs": [
    {
     "name": "stdout",
     "output_type": "stream",
     "text": [
      "3\n"
     ]
    }
   ],
   "source": [
    "text = \"Hi everyone\"\n",
    "position = text.find('everyone')\n",
    "print(position)"
   ]
  },
  {
   "cell_type": "markdown",
   "id": "e4f4f512-965c-4c1b-9e07-b0367f79166f",
   "metadata": {},
   "source": [
    "## 9.format()\tFormats specified values in a string"
   ]
  },
  {
   "cell_type": "code",
   "execution_count": 85,
   "id": "cefbec2e-9b6a-4196-a5dc-c9a413f4fe9b",
   "metadata": {},
   "outputs": [
    {
     "name": "stdout",
     "output_type": "stream",
     "text": [
      "My name is Roy and I am 30 years old.\n"
     ]
    }
   ],
   "source": [
    "name = \"Roy\"\n",
    "age = 30\n",
    "formatted_string = \"My name is {} and I am {} years old.\".format(name,age)\n",
    "print(formatted_string)"
   ]
  },
  {
   "cell_type": "code",
   "execution_count": 89,
   "id": "d86827e3-9218-43cc-89d3-6b4732120668",
   "metadata": {},
   "outputs": [
    {
     "name": "stdout",
     "output_type": "stream",
     "text": [
      "Paris is good place to visit in December month.\n"
     ]
    }
   ],
   "source": [
    "location = \"Paris\"\n",
    "month = \"December\"\n",
    "formatted_string = \"{} is good place to visit in {} month.\".format(location,month)\n",
    "print(formatted_string)"
   ]
  },
  {
   "cell_type": "markdown",
   "id": "38ab3e2a-921d-4ed2-bc53-26e75c630f1f",
   "metadata": {},
   "source": [
    "## 10.format_map()\tFormats specified values in a string"
   ]
  },
  {
   "cell_type": "code",
   "execution_count": 101,
   "id": "a3902aa7-1a20-43aa-9e8c-21fd1208e725",
   "metadata": {},
   "outputs": [
    {
     "name": "stdout",
     "output_type": "stream",
     "text": [
      "My name is Denil and I am 33 years old.\n"
     ]
    }
   ],
   "source": [
    "data = {\n",
    "    'name':'Denil',\n",
    "    'age': 33\n",
    "}\n",
    "\n",
    "formatted_string = \"My name is {name} and I am {age} years old.\".format_map(data)\n",
    "print(formatted_string)"
   ]
  },
  {
   "cell_type": "code",
   "execution_count": null,
   "id": "fcd558b0-9ec5-4c5e-932f-9ec49cedb16f",
   "metadata": {},
   "outputs": [],
   "source": []
  },
  {
   "cell_type": "code",
   "execution_count": 121,
   "id": "fb538be0-6421-4b8b-b8a6-cc6cc7397b54",
   "metadata": {},
   "outputs": [
    {
     "name": "stdout",
     "output_type": "stream",
     "text": [
      "The Great Gatsby was written by F.scott Fitzgerald in 1925.\n"
     ]
    }
   ],
   "source": [
    "data = {\n",
    "    'book': 'The Great Gatsby',\n",
    "    'author': 'F.scott Fitzgerald',\n",
    "    'year': 1925\n",
    "}\n",
    "formatted_string = \"{book} was written by {author} in {year}.\".format_map(data)\n",
    "print(formatted_string)"
   ]
  },
  {
   "cell_type": "markdown",
   "id": "50e9b61a-4184-4049-b168-70095275ec9a",
   "metadata": {},
   "source": [
    "## 11.Index()\tSearches the string for a specified value and returns the position of where it was found"
   ]
  },
  {
   "cell_type": "code",
   "execution_count": 125,
   "id": "6b9594ad-528f-49d4-b66c-e6ace2bb9666",
   "metadata": {},
   "outputs": [
    {
     "name": "stdout",
     "output_type": "stream",
     "text": [
      "6\n"
     ]
    }
   ],
   "source": [
    "text =\"Hello people\"\n",
    "position = text.index('people')\n",
    "print(position)"
   ]
  },
  {
   "cell_type": "code",
   "execution_count": 127,
   "id": "46498742-fdb4-435d-8ce8-681dc7fc191e",
   "metadata": {},
   "outputs": [
    {
     "name": "stdout",
     "output_type": "stream",
     "text": [
      "5\n"
     ]
    }
   ],
   "source": [
    "str = \"I am Enjoying Python\"\n",
    "position = str.index('Enjoying')\n",
    "print(position)"
   ]
  },
  {
   "cell_type": "markdown",
   "id": "2fb9ca76-672d-4f45-b1f9-fac4ce619718",
   "metadata": {},
   "source": [
    "## 12.isalnum()\tReturns True if all characters in the string are alphanumeric"
   ]
  },
  {
   "cell_type": "code",
   "execution_count": 130,
   "id": "632f45f3-7b52-49dd-bc3a-6b3330ffe673",
   "metadata": {},
   "outputs": [
    {
     "name": "stdout",
     "output_type": "stream",
     "text": [
      "False\n"
     ]
    }
   ],
   "source": [
    "text =\"I am coder\"\n",
    "result = text.isalnum()\n",
    "print(result)"
   ]
  },
  {
   "cell_type": "code",
   "execution_count": 132,
   "id": "3af4cf5f-96a7-44e2-a161-e50bed53a236",
   "metadata": {},
   "outputs": [
    {
     "name": "stdout",
     "output_type": "stream",
     "text": [
      "True\n"
     ]
    }
   ],
   "source": [
    "str = \"hello123\"\n",
    "result = str.isalnum()\n",
    "print(result)"
   ]
  },
  {
   "cell_type": "markdown",
   "id": "2fbaf407-e920-4cb7-b90b-81b307b0c770",
   "metadata": {},
   "source": [
    "## 13.isalpha()\tReturns True if all characters in the string are in the alphabet"
   ]
  },
  {
   "cell_type": "code",
   "execution_count": 135,
   "id": "baa91b4f-b907-4b76-9e7b-f49226cd8348",
   "metadata": {},
   "outputs": [
    {
     "name": "stdout",
     "output_type": "stream",
     "text": [
      "False\n"
     ]
    }
   ],
   "source": [
    "text = \"superhero123\"\n",
    "result = text.isalpha()\n",
    "print(result)"
   ]
  },
  {
   "cell_type": "code",
   "execution_count": 137,
   "id": "4d1ad9de-487d-44e5-a78b-b8ad3c0e0cf3",
   "metadata": {},
   "outputs": [
    {
     "name": "stdout",
     "output_type": "stream",
     "text": [
      "False\n"
     ]
    }
   ],
   "source": [
    "text = \"I am good teacher\"\n",
    "result = text.isalpha()\n",
    "print(result)"
   ]
  },
  {
   "cell_type": "code",
   "execution_count": 139,
   "id": "7350d434-89f6-4db9-8e27-44ec1acbbccf",
   "metadata": {},
   "outputs": [
    {
     "name": "stdout",
     "output_type": "stream",
     "text": [
      "True\n"
     ]
    }
   ],
   "source": [
    "text = \"teacher\"\n",
    "result = text.isalpha()\n",
    "print(result)"
   ]
  },
  {
   "cell_type": "markdown",
   "id": "f0d3dd77-69f3-40de-9aa9-ec0bd3174315",
   "metadata": {},
   "source": [
    "## 14.isascii()\tReturns True if all characters in the string are ascii characters"
   ]
  },
  {
   "cell_type": "code",
   "execution_count": 142,
   "id": "539d3b59-7717-445e-abdf-e66e66031e6a",
   "metadata": {},
   "outputs": [
    {
     "name": "stdout",
     "output_type": "stream",
     "text": [
      "True\n"
     ]
    }
   ],
   "source": [
    "text = \"python\"\n",
    "result = text.isascii()\n",
    "print(result)"
   ]
  },
  {
   "cell_type": "code",
   "execution_count": 144,
   "id": "074a53de-8321-455c-bbe5-6bd15305efe8",
   "metadata": {},
   "outputs": [
    {
     "name": "stdout",
     "output_type": "stream",
     "text": [
      "True\n"
     ]
    }
   ],
   "source": [
    "text = \"Apple123\"\n",
    "result = text.isascii()\n",
    "print(result)"
   ]
  },
  {
   "cell_type": "code",
   "execution_count": 150,
   "id": "4d96dd77-8e24-4936-ac8b-ade11aba6a70",
   "metadata": {},
   "outputs": [
    {
     "name": "stdout",
     "output_type": "stream",
     "text": [
      "True\n"
     ]
    }
   ],
   "source": [
    "text = \" \"\n",
    "result = text.isascii()\n",
    "print(result)"
   ]
  },
  {
   "cell_type": "markdown",
   "id": "0be9a468-0295-473f-b738-5fe553359102",
   "metadata": {},
   "source": [
    "## 15.isdecimal()\tReturns True if all characters in the string are decimals"
   ]
  },
  {
   "cell_type": "code",
   "execution_count": 153,
   "id": "2e7de82f-54db-46cd-80da-e866f916da91",
   "metadata": {},
   "outputs": [
    {
     "name": "stdout",
     "output_type": "stream",
     "text": [
      "False\n"
     ]
    }
   ],
   "source": [
    "text = \"132.45\"\n",
    "result = text.isdecimal()\n",
    "print(result)"
   ]
  },
  {
   "cell_type": "code",
   "execution_count": 155,
   "id": "dea6a70d-0e00-43d6-8130-23ba0f20a1b7",
   "metadata": {},
   "outputs": [
    {
     "name": "stdout",
     "output_type": "stream",
     "text": [
      "True\n"
     ]
    }
   ],
   "source": [
    "text = \"12345\"\n",
    "result = text.isdecimal()\n",
    "print(result)"
   ]
  },
  {
   "cell_type": "code",
   "execution_count": 157,
   "id": "b571ecbe-bb7b-4ce8-8f13-88497012d0e3",
   "metadata": {},
   "outputs": [
    {
     "name": "stdout",
     "output_type": "stream",
     "text": [
      "False\n"
     ]
    }
   ],
   "source": [
    "text = \" \"\n",
    "result = text.isdecimal()\n",
    "print(result)"
   ]
  },
  {
   "cell_type": "code",
   "execution_count": 161,
   "id": "e95e80ea-567b-4756-93f8-f98606d47a5d",
   "metadata": {},
   "outputs": [
    {
     "name": "stdout",
     "output_type": "stream",
     "text": [
      "False\n"
     ]
    }
   ],
   "source": [
    "text = '123a5'\n",
    "result = text.isdecimal()\n",
    "print(result)"
   ]
  },
  {
   "cell_type": "markdown",
   "id": "b62a2726-3312-41eb-ae3d-bdcb3cbfd106",
   "metadata": {},
   "source": [
    "## 16.isdigit()\tReturns True if all characters in the string are digits"
   ]
  },
  {
   "cell_type": "code",
   "execution_count": 164,
   "id": "6c1e1098-7d1d-465d-9ed0-67de0f393c70",
   "metadata": {},
   "outputs": [
    {
     "name": "stdout",
     "output_type": "stream",
     "text": [
      "True\n"
     ]
    }
   ],
   "source": [
    "text = '12345'\n",
    "result = text.isdigit()\n",
    "print(result)"
   ]
  },
  {
   "cell_type": "code",
   "execution_count": 166,
   "id": "b4e46bab-2ea0-4f7a-aa9e-5efdee1b36bb",
   "metadata": {},
   "outputs": [
    {
     "name": "stdout",
     "output_type": "stream",
     "text": [
      "False\n"
     ]
    }
   ],
   "source": [
    "text = \" 1234\"\n",
    "result = text.isdigit()\n",
    "print(result)"
   ]
  },
  {
   "cell_type": "markdown",
   "id": "7d7ca5a4-4df3-441a-a865-a77c941f68dd",
   "metadata": {},
   "source": [
    "## 17.isidentifier()\tReturns True if the string is an identifier"
   ]
  },
  {
   "cell_type": "code",
   "execution_count": 171,
   "id": "457471ff-7a79-438f-aaf0-19859b325b3b",
   "metadata": {},
   "outputs": [
    {
     "name": "stdout",
     "output_type": "stream",
     "text": [
      "False\n"
     ]
    }
   ],
   "source": [
    "text = \"I am going school\"\n",
    "result = text.isidentifier()\n",
    "print(result)"
   ]
  },
  {
   "cell_type": "code",
   "execution_count": 173,
   "id": "e140d4d9-4d3e-4f74-980f-c8f2906111eb",
   "metadata": {},
   "outputs": [
    {
     "name": "stdout",
     "output_type": "stream",
     "text": [
      "False\n"
     ]
    }
   ],
   "source": [
    "text = \"I_am going school\"\n",
    "result = text.isidentifier()\n",
    "print(result)"
   ]
  },
  {
   "cell_type": "code",
   "execution_count": 175,
   "id": "58f621ea-30a5-4a22-b7dd-62658aa673a9",
   "metadata": {},
   "outputs": [
    {
     "name": "stdout",
     "output_type": "stream",
     "text": [
      "True\n"
     ]
    }
   ],
   "source": [
    "text = \"I_am_going_school\"\n",
    "result = text.isidentifier()\n",
    "print(result)"
   ]
  },
  {
   "cell_type": "markdown",
   "id": "58495536-e698-4c52-aac0-76341fa3fbbe",
   "metadata": {},
   "source": [
    "## 18.islower()\tReturns True if all characters in the string are lower case"
   ]
  },
  {
   "cell_type": "code",
   "execution_count": 186,
   "id": "be181de1-d2d5-4e79-8ff4-06eba26345ab",
   "metadata": {},
   "outputs": [
    {
     "name": "stdout",
     "output_type": "stream",
     "text": [
      "True\n"
     ]
    }
   ],
   "source": [
    "text = 'rainy season'\n",
    "result = text.islower()\n",
    "print(result)"
   ]
  },
  {
   "cell_type": "code",
   "execution_count": 180,
   "id": "1dc90ede-8d95-46d8-8562-203bbcb978b5",
   "metadata": {},
   "outputs": [
    {
     "name": "stdout",
     "output_type": "stream",
     "text": [
      "False\n"
     ]
    }
   ],
   "source": [
    "text = \"Rainy season\"\n",
    "result = text.islower()\n",
    "print(result)"
   ]
  },
  {
   "cell_type": "code",
   "execution_count": 184,
   "id": "35e8205e-1204-4318-92c2-5d4c54b00be8",
   "metadata": {},
   "outputs": [
    {
     "name": "stdout",
     "output_type": "stream",
     "text": [
      "False\n"
     ]
    }
   ],
   "source": [
    "text = \" \"\n",
    "result = text.islower()\n",
    "print(result)"
   ]
  },
  {
   "cell_type": "markdown",
   "id": "71f7f1c6-cf38-40c2-9d30-dfa8cc5cd839",
   "metadata": {},
   "source": [
    "## 19.isnumeric()\tReturns True if all characters in the string are numeric"
   ]
  },
  {
   "cell_type": "code",
   "execution_count": 189,
   "id": "e7d72b69-5efb-4d3e-855c-d073340cbf8f",
   "metadata": {},
   "outputs": [
    {
     "name": "stdout",
     "output_type": "stream",
     "text": [
      "False\n"
     ]
    }
   ],
   "source": [
    "text = \"123s3\"\n",
    "result = text.isnumeric()\n",
    "print(result)"
   ]
  },
  {
   "cell_type": "code",
   "execution_count": 191,
   "id": "4901cd69-3ffd-458e-bb3f-cede59308b38",
   "metadata": {},
   "outputs": [
    {
     "name": "stdout",
     "output_type": "stream",
     "text": [
      "True\n"
     ]
    }
   ],
   "source": [
    "text = \"123098\"\n",
    "result = text.isnumeric()\n",
    "print(result)"
   ]
  },
  {
   "cell_type": "markdown",
   "id": "ceb43201-bfa5-48c3-b43a-99755684840b",
   "metadata": {},
   "source": [
    "## 20.isprintable()\tReturns True if all characters in the string are printable"
   ]
  },
  {
   "cell_type": "code",
   "execution_count": 206,
   "id": "a8fc8e57-4e6b-4db6-92d9-584438165195",
   "metadata": {},
   "outputs": [
    {
     "name": "stdout",
     "output_type": "stream",
     "text": [
      "True\n"
     ]
    }
   ],
   "source": [
    "text = \"Hi people\"\n",
    "result = text.isprintable()\n",
    "print(result)"
   ]
  },
  {
   "cell_type": "code",
   "execution_count": 202,
   "id": "e20d9f86-36fb-45ce-aaf6-ef315d0c9cad",
   "metadata": {},
   "outputs": [
    {
     "name": "stdout",
     "output_type": "stream",
     "text": [
      "True\n"
     ]
    }
   ],
   "source": [
    "text = \"hi%*people\"\n",
    "result = text.isprintable()\n",
    "print(result)"
   ]
  },
  {
   "cell_type": "markdown",
   "id": "61ff14d8-d0dd-496d-ad2a-6c8e5b5ae335",
   "metadata": {},
   "source": [
    "## 21.isspace()\tReturns True if all characters in the string are whitespaces"
   ]
  },
  {
   "cell_type": "code",
   "execution_count": 209,
   "id": "8e915bbd-427f-4474-a47c-9c94d8d7dc3a",
   "metadata": {},
   "outputs": [
    {
     "name": "stdout",
     "output_type": "stream",
     "text": [
      "False\n"
     ]
    }
   ],
   "source": [
    "text = \"   mangoDb\"\n",
    "result = text.isspace()\n",
    "print(result)"
   ]
  },
  {
   "cell_type": "code",
   "execution_count": 211,
   "id": "b16bd2c5-1b00-4f73-9785-dd42bd2b3d6b",
   "metadata": {},
   "outputs": [
    {
     "name": "stdout",
     "output_type": "stream",
     "text": [
      "True\n"
     ]
    }
   ],
   "source": [
    "text = \"  \\t\\n\"\n",
    "result = text.isspace()\n",
    "print(result)"
   ]
  },
  {
   "cell_type": "markdown",
   "id": "951785fa-3887-4f2c-82ec-67165c4ec13c",
   "metadata": {},
   "source": [
    "## 22.istitle() \tReturns True if the string follows the rules of a title"
   ]
  },
  {
   "cell_type": "code",
   "execution_count": 215,
   "id": "34e0cf7c-a124-4abd-bbc6-43b931d40ad1",
   "metadata": {},
   "outputs": [
    {
     "name": "stdout",
     "output_type": "stream",
     "text": [
      "False\n"
     ]
    }
   ],
   "source": [
    "str = \"My name is Garima\"\n",
    "result = str.istitle()\n",
    "print(result)"
   ]
  },
  {
   "cell_type": "code",
   "execution_count": 217,
   "id": "89b2045b-2866-4973-a088-58f0033e2f75",
   "metadata": {},
   "outputs": [
    {
     "name": "stdout",
     "output_type": "stream",
     "text": [
      "True\n"
     ]
    }
   ],
   "source": [
    "text = \"My Name Is Garima\"\n",
    "result = text.istitle()\n",
    "print(result)"
   ]
  },
  {
   "cell_type": "markdown",
   "id": "81172305-7629-449d-97ba-e57649a47248",
   "metadata": {},
   "source": [
    "## 23 isupper()\tReturns True if all characters in the string are upper case"
   ]
  },
  {
   "cell_type": "code",
   "execution_count": 220,
   "id": "d43a157c-2a98-48df-b13e-98b89a524d61",
   "metadata": {},
   "outputs": [
    {
     "name": "stdout",
     "output_type": "stream",
     "text": [
      "True\n"
     ]
    }
   ],
   "source": [
    "text = \" MY FATHER IS MY SUPERHERO\"\n",
    "result = text.isupper()\n",
    "print(result)"
   ]
  },
  {
   "cell_type": "code",
   "execution_count": 222,
   "id": "1e559497-57c6-4dad-8a34-c37f7c9ecbe6",
   "metadata": {},
   "outputs": [
    {
     "name": "stdout",
     "output_type": "stream",
     "text": [
      "False\n"
     ]
    }
   ],
   "source": [
    "text = \"my Fther is my superhero\"\n",
    "result = text.isupper()\n",
    "print(result)"
   ]
  },
  {
   "cell_type": "markdown",
   "id": "e9662e07-f704-4200-b8c2-e9887eba38ae",
   "metadata": {},
   "source": [
    "## 24.join()\tConverts the elements of an iterable into a string"
   ]
  },
  {
   "cell_type": "code",
   "execution_count": 227,
   "id": "3f3090fd-fa4a-4d53-807e-9c36cdf43a39",
   "metadata": {},
   "outputs": [
    {
     "name": "stdout",
     "output_type": "stream",
     "text": [
      "people should be polite\n"
     ]
    }
   ],
   "source": [
    "words =[\"people\",\"should\",\"be\",\"polite\"]\n",
    "result = \" \".join(words)\n",
    "print(result)"
   ]
  },
  {
   "cell_type": "code",
   "execution_count": 233,
   "id": "c1a0dbc4-d659-46bc-8f99-943aa3a221f9",
   "metadata": {},
   "outputs": [
    {
     "name": "stdout",
     "output_type": "stream",
     "text": [
      "Line 1\n",
      "Line 2\n",
      "Line 3\n"
     ]
    }
   ],
   "source": [
    "lines = [\"Line 1\", \"Line 2\", \"Line 3\"]\n",
    "result = \"\\n\".join(lines)\n",
    "print(result)\n",
    "\n"
   ]
  },
  {
   "cell_type": "code",
   "execution_count": 231,
   "id": "c998a59e-1446-49e6-b156-c79fe4f6093b",
   "metadata": {},
   "outputs": [
    {
     "name": "stdout",
     "output_type": "stream",
     "text": [
      "1-2-3-4-5\n"
     ]
    }
   ],
   "source": [
    "numbers = (\"1\", \"2\", \"3\", \"4\", \"5\")\n",
    "result = \"-\".join(numbers)\n",
    "print(result) \n"
   ]
  },
  {
   "cell_type": "markdown",
   "id": "d386c669-be9f-45b0-a616-f0a0111f12b5",
   "metadata": {},
   "source": [
    "## 25.ljust()\tReturns a left justified version of the string"
   ]
  },
  {
   "cell_type": "code",
   "execution_count": 244,
   "id": "ada068c2-7fda-4669-b43a-b2737b40430b",
   "metadata": {},
   "outputs": [
    {
     "name": "stdout",
     "output_type": "stream",
     "text": [
      "python    \n"
     ]
    }
   ],
   "source": [
    "text = \"python\"\n",
    "result = text.ljust(10)\n",
    "print(result)"
   ]
  },
  {
   "cell_type": "code",
   "execution_count": 240,
   "id": "2920c3ff-37c6-4c23-8cd5-a461d9fe1b19",
   "metadata": {},
   "outputs": [
    {
     "name": "stdout",
     "output_type": "stream",
     "text": [
      "python----\n"
     ]
    }
   ],
   "source": [
    "str= \"python\"\n",
    "result = str.ljust(10,'-')\n",
    "print(result)"
   ]
  },
  {
   "cell_type": "markdown",
   "id": "7c297013-6675-4177-b91f-96783585d494",
   "metadata": {},
   "source": [
    "## 26.lower()\tConverts a string into lower case"
   ]
  },
  {
   "cell_type": "code",
   "execution_count": 249,
   "id": "7dd7b91b-68b9-4e79-bb41-f51252a2eead",
   "metadata": {},
   "outputs": [
    {
     "name": "stdout",
     "output_type": "stream",
     "text": [
      "i am the best\n"
     ]
    }
   ],
   "source": [
    "str = \"I AM THE BEST\"\n",
    "result = str.lower()\n",
    "print(result)"
   ]
  },
  {
   "cell_type": "code",
   "execution_count": 259,
   "id": "a6cd531e-8a63-4a4b-88e8-8649b72e2d86",
   "metadata": {},
   "outputs": [
    {
     "name": "stdout",
     "output_type": "stream",
     "text": [
      "python is fun!\n"
     ]
    }
   ],
   "source": [
    "text = \"Python is FUN!\"\n",
    "result = text.lower()\n",
    "print(result) \n"
   ]
  },
  {
   "cell_type": "markdown",
   "id": "2149dab1-8e3d-4976-9248-722985dafbb2",
   "metadata": {},
   "source": [
    "## 27.lstrip()\tReturns a left trim version of the string"
   ]
  },
  {
   "cell_type": "code",
   "execution_count": 262,
   "id": "0abef94a-068d-468d-819a-d6089c6cf1d7",
   "metadata": {},
   "outputs": [
    {
     "name": "stdout",
     "output_type": "stream",
     "text": [
      "you should walk\n"
     ]
    }
   ],
   "source": [
    "text = \"    you should walk\"\n",
    "result = text.lstrip()\n",
    "print(result)"
   ]
  },
  {
   "cell_type": "code",
   "execution_count": 266,
   "id": "fa933afa-d27b-447e-a13e-b9983d077a3b",
   "metadata": {},
   "outputs": [
    {
     "name": "stdout",
     "output_type": "stream",
     "text": [
      "you should walk---\n"
     ]
    }
   ],
   "source": [
    "text = \"----you should walk---\"\n",
    "result =text.lstrip('-')\n",
    "print(result)"
   ]
  },
  {
   "cell_type": "markdown",
   "id": "3c1c4a9f-89cd-434a-96d9-1d0ff4e9c70b",
   "metadata": {},
   "source": [
    "## 28.maketrans()\tReturns a translation table to be used in translations"
   ]
  },
  {
   "cell_type": "code",
   "execution_count": 271,
   "id": "73239dbc-4c96-42be-a211-b8b8b0959441",
   "metadata": {},
   "outputs": [
    {
     "name": "stdout",
     "output_type": "stream",
     "text": [
      "123de\n"
     ]
    }
   ],
   "source": [
    "table = str.maketrans(\"abc\", \"123\")\n",
    "text = \"abcde\"\n",
    "result = text.translate(table)\n",
    "print(result)  \n"
   ]
  },
  {
   "cell_type": "code",
   "execution_count": 273,
   "id": "a7a90f1f-8579-4028-a579-37994c79d06d",
   "metadata": {},
   "outputs": [
    {
     "name": "stdout",
     "output_type": "stream",
     "text": [
      "123\n"
     ]
    }
   ],
   "source": [
    "\n",
    "table = str.maketrans(\"abc\", \"123\", \"de\") \n",
    "text = \"abcde\"\n",
    "result = text.translate(table)\n",
    "print(result) \n"
   ]
  },
  {
   "cell_type": "markdown",
   "id": "3aa920c4-3ce4-4e47-bd82-3edfccee6e26",
   "metadata": {},
   "source": [
    "## 29.partition()\tReturns a tuple where the string is parted into three parts"
   ]
  },
  {
   "cell_type": "code",
   "execution_count": 295,
   "id": "a768c090-aa3c-4fbc-9e86-c8ff0d85fa94",
   "metadata": {},
   "outputs": [
    {
     "name": "stdout",
     "output_type": "stream",
     "text": [
      "('love your parents', '', '')\n"
     ]
    }
   ],
   "source": [
    "text = \"love your parents\"\n",
    "result = text.partition(\",\")\n",
    "print(result)"
   ]
  },
  {
   "cell_type": "code",
   "execution_count": 291,
   "id": "18d76355-a0a7-4f9d-ab57-1b68c916a884",
   "metadata": {},
   "outputs": [
    {
     "name": "stdout",
     "output_type": "stream",
     "text": [
      "('be', ' ', 'confident')\n"
     ]
    }
   ],
   "source": [
    "text = 'be confident'\n",
    "result = text.partition(\" \")\n",
    "print(result)"
   ]
  },
  {
   "cell_type": "markdown",
   "id": "e80494e1-0710-4744-bd83-f7acd27cc3d0",
   "metadata": {},
   "source": [
    "## 30.replace()\tReturns a string where a specified value is replaced with a specified value"
   ]
  },
  {
   "cell_type": "code",
   "execution_count": 308,
   "id": "737f5830-5ad5-4d9e-ac24-ae11f87e01a7",
   "metadata": {},
   "outputs": [
    {
     "name": "stdout",
     "output_type": "stream",
     "text": [
      "My stream is Maths\n"
     ]
    }
   ],
   "source": [
    "text = \"My stream is Science\"\n",
    "result = text.replace(\"Science\",\"Maths\")\n",
    "print(result)"
   ]
  },
  {
   "cell_type": "code",
   "execution_count": 310,
   "id": "4d7b77dd-bfde-4397-90ba-6b7b4fc60a5e",
   "metadata": {},
   "outputs": [
    {
     "name": "stdout",
     "output_type": "stream",
     "text": [
      "two two one\n"
     ]
    }
   ],
   "source": [
    "text = \"one one one\"\n",
    "result = text.replace(\"one\", \"two\", 2)\n",
    "print(result)  \n"
   ]
  },
  {
   "cell_type": "markdown",
   "id": "85f51150-8e8a-4b11-9f43-a768e21df563",
   "metadata": {},
   "source": [
    "## 31.rfind()\tSearches the string for a specified value and returns the last position of where it was found"
   ]
  },
  {
   "cell_type": "code",
   "execution_count": 323,
   "id": "ccfd2da7-5054-4028-9eb5-7ed460a03ca4",
   "metadata": {},
   "outputs": [
    {
     "name": "stdout",
     "output_type": "stream",
     "text": [
      "15\n"
     ]
    }
   ],
   "source": [
    "text = \"I want to be a topper\"\n",
    "index = text.rfind(\"topper\")\n",
    "print(index)"
   ]
  },
  {
   "cell_type": "code",
   "execution_count": 325,
   "id": "c864b0d9-1cb6-43ea-9ba5-ba7b984ce6b7",
   "metadata": {},
   "outputs": [
    {
     "name": "stdout",
     "output_type": "stream",
     "text": [
      "0\n"
     ]
    }
   ],
   "source": [
    "text = \"Be confident\"\n",
    "index = text.rfind(\"Be\")\n",
    "print(index)"
   ]
  },
  {
   "cell_type": "markdown",
   "id": "4b8b3406-7199-4e6c-92d4-254e80e498a8",
   "metadata": {},
   "source": [
    "## 32.zfill()\tFills the string with a specified number of 0 values at the beginning"
   ]
  },
  {
   "cell_type": "code",
   "execution_count": 328,
   "id": "a5d3134f-f3d2-4d6a-bf1e-574df2fe7923",
   "metadata": {},
   "outputs": [
    {
     "name": "stdout",
     "output_type": "stream",
     "text": [
      "00768\n"
     ]
    }
   ],
   "source": [
    "text = \"768\"\n",
    "result = text.zfill(5)\n",
    "print(result)"
   ]
  },
  {
   "cell_type": "code",
   "execution_count": 330,
   "id": "6458cab4-fb83-46c4-9261-92b1fecacf63",
   "metadata": {},
   "outputs": [
    {
     "name": "stdout",
     "output_type": "stream",
     "text": [
      "-000123\n"
     ]
    }
   ],
   "source": [
    "text = \"-123\"\n",
    "result = text.zfill(7)\n",
    "print(result)"
   ]
  },
  {
   "cell_type": "markdown",
   "id": "ffe0c34b-b2c1-404e-bb6a-0d76f1b1451c",
   "metadata": {},
   "source": [
    "## 33.upper()\tConverts a string into upper case"
   ]
  },
  {
   "cell_type": "code",
   "execution_count": 333,
   "id": "31aa4c54-fc39-4fb9-8a18-18bebf72f51f",
   "metadata": {},
   "outputs": [
    {
     "name": "stdout",
     "output_type": "stream",
     "text": [
      "YOGA IS GOOD\n"
     ]
    }
   ],
   "source": [
    "text = 'yoga is good'\n",
    "result = text.upper()\n",
    "print(result)"
   ]
  },
  {
   "cell_type": "code",
   "execution_count": 337,
   "id": "43209034-0e47-4d2d-a602-9d2491f9a3d1",
   "metadata": {},
   "outputs": [
    {
     "name": "stdout",
     "output_type": "stream",
     "text": [
      "ALWAYS SMILE\n"
     ]
    }
   ],
   "source": [
    "text = \"always smile\"\n",
    "result = text.upper()\n",
    "print(result)"
   ]
  },
  {
   "cell_type": "markdown",
   "id": "28d09d48-ed88-4b9e-bdbf-cb3a018d7c60",
   "metadata": {},
   "source": [
    "## 34.translate()\tReturns a translated string"
   ]
  },
  {
   "cell_type": "code",
   "execution_count": 342,
   "id": "60c6d60f-6c3a-4c13-ba69-f5e488bee450",
   "metadata": {},
   "outputs": [
    {
     "name": "stdout",
     "output_type": "stream",
     "text": [
      "123def\n"
     ]
    }
   ],
   "source": [
    "translation_table = str.maketrans(\"abc\", \"123\")\n",
    "text = \"abcdef\"\n",
    "result = text.translate(translation_table)\n",
    "print(result) \n"
   ]
  },
  {
   "cell_type": "code",
   "execution_count": 344,
   "id": "6e461734-a940-4e56-b145-dd2f28c7330b",
   "metadata": {},
   "outputs": [
    {
     "name": "stdout",
     "output_type": "stream",
     "text": [
      "Hll, Wrld!\n"
     ]
    }
   ],
   "source": [
    "translation_table = str.maketrans(\"\", \"\", \"aeiou\")  \n",
    "text = \"Hello, World!\"\n",
    "result = text.translate(translation_table)\n",
    "print(result) \n"
   ]
  },
  {
   "cell_type": "markdown",
   "id": "d7b253e6-ac2d-4139-9736-fa9b3f3516fa",
   "metadata": {},
   "source": [
    "## 35.title()\tConverts the first character of each word to upper case"
   ]
  },
  {
   "cell_type": "code",
   "execution_count": 347,
   "id": "bc3b45ad-fb78-47de-ac2b-8a59caf8a718",
   "metadata": {},
   "outputs": [
    {
     "name": "stdout",
     "output_type": "stream",
     "text": [
      "Love You Self\n"
     ]
    }
   ],
   "source": [
    "str = 'love you self'\n",
    "result = str.title()\n",
    "print(result)"
   ]
  },
  {
   "cell_type": "code",
   "execution_count": 349,
   "id": "7fefae0d-3071-46dd-a120-a8a32924a12d",
   "metadata": {},
   "outputs": [
    {
     "name": "stdout",
     "output_type": "stream",
     "text": [
      "Be Patient\n"
     ]
    }
   ],
   "source": [
    "text = \"be patient\"\n",
    "result = text.title()\n",
    "print(result)"
   ]
  },
  {
   "cell_type": "markdown",
   "id": "f4295f1e-9e81-436d-a15b-775a38cf9a68",
   "metadata": {},
   "source": [
    "## 36.swapcase()\tSwaps cases, lower case becomes upper case and vice versa"
   ]
  },
  {
   "cell_type": "code",
   "execution_count": 355,
   "id": "357f0071-79b4-4656-a1cb-b0da7ded5200",
   "metadata": {},
   "outputs": [
    {
     "name": "stdout",
     "output_type": "stream",
     "text": [
      "AEROBICS IS GOOD FOR hEALTH\n"
     ]
    }
   ],
   "source": [
    "text = \"aerobics is good for Health\"\n",
    "result = text.swapcase()\n",
    "print(result)"
   ]
  },
  {
   "cell_type": "code",
   "execution_count": 357,
   "id": "bd068afc-752e-4102-817c-3d96b69508f3",
   "metadata": {},
   "outputs": [
    {
     "name": "stdout",
     "output_type": "stream",
     "text": [
      "DANcE,dANce\n"
     ]
    }
   ],
   "source": [
    "text = \"danCe,DanCE\"\n",
    "result = text.swapcase()\n",
    "print(result)"
   ]
  },
  {
   "cell_type": "markdown",
   "id": "29806ea7-981e-4d06-ae9f-3e73d1c87828",
   "metadata": {},
   "source": [
    "## 37.strip()\tReturns a trimmed version of the string"
   ]
  },
  {
   "cell_type": "code",
   "execution_count": 360,
   "id": "dc43d1c2-a6f4-4f04-bb90-59d484b0e998",
   "metadata": {},
   "outputs": [
    {
     "name": "stdout",
     "output_type": "stream",
     "text": [
      "Hello, World!\n"
     ]
    }
   ],
   "source": [
    "text = \"   Hello, World!   \"\n",
    "result = text.strip()\n",
    "print(result)  \n"
   ]
  },
  {
   "cell_type": "code",
   "execution_count": 364,
   "id": "64218ad6-0c0c-4657-a62e-3823ccd58ddf",
   "metadata": {},
   "outputs": [
    {
     "name": "stdout",
     "output_type": "stream",
     "text": [
      "\n"
     ]
    }
   ],
   "source": [
    "text = \"\"\n",
    "result = text.strip()\n",
    "print(result)  \n"
   ]
  },
  {
   "cell_type": "markdown",
   "id": "2ebf83d0-83df-4f06-b0c1-685cd6ad498a",
   "metadata": {},
   "source": [
    "## 38.startswith()\tReturns true if the string starts with the specified value"
   ]
  },
  {
   "cell_type": "code",
   "execution_count": 376,
   "id": "0df7c4f4-f3c7-45f0-9b7a-140fd7bbec29",
   "metadata": {},
   "outputs": [
    {
     "name": "stdout",
     "output_type": "stream",
     "text": [
      "False\n"
     ]
    }
   ],
   "source": [
    "text = \"I love Fruits\"\n",
    "result = text.startswith(\"Fruits\")\n",
    "print(result)"
   ]
  },
  {
   "cell_type": "code",
   "execution_count": 378,
   "id": "7eb6803a-91c1-4f59-aa01-19460779575d",
   "metadata": {},
   "outputs": [
    {
     "name": "stdout",
     "output_type": "stream",
     "text": [
      "True\n"
     ]
    }
   ],
   "source": [
    "text = \"Hello, World!\"\n",
    "result = text.startswith(\"Hello\")\n",
    "print(result)  \n"
   ]
  },
  {
   "cell_type": "markdown",
   "id": "f99a1fa1-0241-491e-897f-536cbb9cfedc",
   "metadata": {},
   "source": [
    "## 39.splitlines()\tSplits the string at line breaks and returns a list"
   ]
  },
  {
   "cell_type": "code",
   "execution_count": 385,
   "id": "6d2905df-f8a1-4955-8224-7e765cfac332",
   "metadata": {},
   "outputs": [
    {
     "name": "stdout",
     "output_type": "stream",
     "text": [
      "['I', 'love', 'my', 'Country']\n"
     ]
    }
   ],
   "source": [
    "text = \"I\\nlove\\nmy\\nCountry\"\n",
    "result = text.splitlines()\n",
    "print(result)"
   ]
  },
  {
   "cell_type": "code",
   "execution_count": 387,
   "id": "8d082511-f479-4fd2-9514-cfba70925bd6",
   "metadata": {},
   "outputs": [
    {
     "name": "stdout",
     "output_type": "stream",
     "text": [
      "['party', 'hard']\n"
     ]
    }
   ],
   "source": [
    "text = \"party\\nhard\"\n",
    "result = text.splitlines()\n",
    "print(result)\n"
   ]
  },
  {
   "cell_type": "markdown",
   "id": "65e7a734-2842-46d6-ad50-9b0f62df16da",
   "metadata": {},
   "source": [
    "## 40.split()\tSplits the string at the specified separator, and returns a list"
   ]
  },
  {
   "cell_type": "code",
   "execution_count": 390,
   "id": "6d3bc71d-4f12-4364-9ade-1b2973ca6923",
   "metadata": {},
   "outputs": [
    {
     "name": "stdout",
     "output_type": "stream",
     "text": [
      "['Hello', 'World!']\n"
     ]
    }
   ],
   "source": [
    "text = \"Hello, World!\"\n",
    "result = text.split(\", \")\n",
    "print(result) \n"
   ]
  },
  {
   "cell_type": "code",
   "execution_count": 392,
   "id": "693624ba-4b67-4434-8068-d54a37d4539d",
   "metadata": {},
   "outputs": [
    {
     "name": "stdout",
     "output_type": "stream",
     "text": [
      "['Hello World']\n"
     ]
    }
   ],
   "source": [
    "text = \"Hello World\"\n",
    "result = text.split(\",\")\n",
    "print(result) \n"
   ]
  },
  {
   "cell_type": "markdown",
   "id": "56268075-6d02-42a7-92ec-64057b9f97d9",
   "metadata": {},
   "source": [
    "## 41.rstrip()\tReturns a right trim version of the string"
   ]
  },
  {
   "cell_type": "code",
   "execution_count": 395,
   "id": "d1af5523-1134-49fb-9414-9e083e4d52eb",
   "metadata": {},
   "outputs": [
    {
     "name": "stdout",
     "output_type": "stream",
     "text": [
      "Be Smart\n"
     ]
    }
   ],
   "source": [
    "text = \"Be Smart    \"\n",
    "result = text.rstrip()\n",
    "print(result)"
   ]
  },
  {
   "cell_type": "code",
   "execution_count": 401,
   "id": "99c1211d-94c8-4479-8377-33f91347dae8",
   "metadata": {},
   "outputs": [
    {
     "name": "stdout",
     "output_type": "stream",
     "text": [
      "be smart\n"
     ]
    }
   ],
   "source": [
    "text = \"be smart?\"\n",
    "result = text.rstrip(\"?\")\n",
    "print(result)"
   ]
  },
  {
   "cell_type": "code",
   "execution_count": null,
   "id": "1ca33d38-047a-4db3-aca0-e2e5dc0399cd",
   "metadata": {},
   "outputs": [],
   "source": []
  }
 ],
 "metadata": {
  "kernelspec": {
   "display_name": "Python 3 (ipykernel)",
   "language": "python",
   "name": "python3"
  },
  "language_info": {
   "codemirror_mode": {
    "name": "ipython",
    "version": 3
   },
   "file_extension": ".py",
   "mimetype": "text/x-python",
   "name": "python",
   "nbconvert_exporter": "python",
   "pygments_lexer": "ipython3",
   "version": "3.12.4"
  }
 },
 "nbformat": 4,
 "nbformat_minor": 5
}
